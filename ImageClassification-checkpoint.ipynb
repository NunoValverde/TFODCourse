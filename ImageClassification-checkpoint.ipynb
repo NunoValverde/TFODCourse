{
 "cells": [
  {
   "cell_type": "markdown",
   "id": "56c25d09",
   "metadata": {},
   "source": [
    "# 1. Install Libraries and Import Dependencies"
   ]
  },
  {
   "cell_type": "code",
   "execution_count": null,
   "id": "659ec6a0",
   "metadata": {},
   "outputs": [],
   "source": [
    "!pip install opencv-python"
   ]
  },
  {
   "cell_type": "code",
   "execution_count": 1,
   "id": "553d0950",
   "metadata": {},
   "outputs": [],
   "source": [
    "import cv2\n",
    "import uuid\n",
    "import os\n",
    "import time"
   ]
  },
  {
   "cell_type": "markdown",
   "id": "ad0e45db",
   "metadata": {},
   "source": [
    "# 2.Define Images to Collect"
   ]
  },
  {
   "cell_type": "code",
   "execution_count": 2,
   "id": "2282140b",
   "metadata": {},
   "outputs": [],
   "source": [
    "labels = ['OK', 'NOK']\n",
    "number_imgs = 5"
   ]
  },
  {
   "cell_type": "markdown",
   "id": "4c25c0c4",
   "metadata": {},
   "source": [
    "# 3.Setup Folders"
   ]
  },
  {
   "cell_type": "code",
   "execution_count": 3,
   "id": "b3553070",
   "metadata": {},
   "outputs": [],
   "source": [
    "IMAGES_PATH = os.path.join('Tensorflow', 'workspace', 'images', 'collectedimages')"
   ]
  },
  {
   "cell_type": "code",
   "execution_count": null,
   "id": "9f192dc8",
   "metadata": {},
   "outputs": [],
   "source": [
    "if not os.path.exists(IMAGES_PATH):\n",
    "    !mkdir {IMAGES_PATH}\n",
    "    print(f'Folder Created - {IMAGES_PATH}')\n",
    "else:\n",
    "    print(f'Folder Already Exists - {IMAGES_PATH}')"
   ]
  },
  {
   "cell_type": "code",
   "execution_count": null,
   "id": "f369dc4f",
   "metadata": {},
   "outputs": [],
   "source": [
    "for label in labels:\n",
    "    path_label = os.path.join(IMAGES_PATH, label)\n",
    "    if not os.path.exists(path_label):\n",
    "        !mkdir {path_label}\n",
    "        print(f'Folder Created - {path_label}')\n",
    "    else:\n",
    "        print(f'Folder Already Exists - {path_label}')\n",
    "        "
   ]
  },
  {
   "cell_type": "markdown",
   "id": "f9a0fdc4",
   "metadata": {},
   "source": [
    "# 4. Capture Images"
   ]
  },
  {
   "cell_type": "markdown",
   "id": "a8d29283",
   "metadata": {},
   "source": [
    "for label in labels:\n",
    "    cap = cv2.VideoCapture(0)\n",
    "    print(f'Collecting images for {label}')\n",
    "    time.sleep(2)\n",
    "    \n",
    "    for imgnumb in range(number_imgs):\n",
    "        print(f'Collecting image {imgnumb}')\n",
    "        ret, frame = cap.read()\n",
    "        imgname = os.path.join(IMAGES_PATH,label,label + '{}.jpg'.format(str(uuid.uuid1())))\n",
    "        \n",
    "        cv2.imwrite(imgname, frame)\n",
    "        cv2.imshow('frame', frame)\n",
    "        \n",
    "        cv2.waitKey(2000)\n",
    "        cap.release()\n",
    "        cv2.destroyAllWindows()\n",
    "        time.sleep(2)\n",
    "        \n",
    "        if cv2.waitKey(1) & 0xFF == ord('q'):\n",
    "            break\n",
    "cap.release()\n",
    "cv2.destroyAllWindows()"
   ]
  },
  {
   "cell_type": "code",
   "execution_count": null,
   "id": "4ca7971b",
   "metadata": {},
   "outputs": [],
   "source": []
  },
  {
   "cell_type": "code",
   "execution_count": null,
   "id": "487422ae",
   "metadata": {
    "scrolled": true
   },
   "outputs": [
    {
     "name": "stdout",
     "output_type": "stream",
     "text": [
      "Collecting images for OK\n",
      "<class 'str'>\n",
      "c\n",
      "c\n",
      "True\n",
      "True\n",
      "True\n",
      "entrou!!!\n",
      "hhhhkCollecting image 1\n",
      "aqui release\n",
      "<class 'str'>\n",
      "c\n",
      "c\n",
      "True\n",
      "True\n",
      "True\n",
      "entrou!!!\n",
      "hhhhkCollecting image 2\n",
      "aqui release\n",
      "<class 'str'>\n",
      "s\n",
      "c\n",
      "False\n",
      "True\n",
      "False\n",
      "aqui release\n"
     ]
    },
    {
     "name": "stderr",
     "output_type": "stream",
     "text": [
      "Unhandled exception in listener callback\n",
      "Traceback (most recent call last):\n",
      "  File \"C:\\Users\\Nuno Valverde\\.conda\\envs\\tf\\lib\\site-packages\\pynput\\_util\\__init__.py\", line 228, in inner\n",
      "    return f(self, *args, **kwargs)\n",
      "  File \"C:\\Users\\Nuno Valverde\\.conda\\envs\\tf\\lib\\site-packages\\pynput\\keyboard\\_win32.py\", line 287, in _process\n",
      "    self.on_press(key)\n",
      "  File \"C:\\Users\\Nuno Valverde\\.conda\\envs\\tf\\lib\\site-packages\\pynput\\_util\\__init__.py\", line 144, in inner\n",
      "    if f(*args) is False:\n",
      "  File \"C:\\Users\\Nuno Valverde\\AppData\\Local\\Temp\\ipykernel_12784\\1217028683.py\", line 7, in on_press\n",
      "    print(type(str(key.char)))\n",
      "AttributeError: 'Key' object has no attribute 'char'\n"
     ]
    }
   ],
   "source": [
    "from pynput import keyboard\n",
    "\n",
    "def on_press(key):\n",
    "    global previous_key\n",
    "    global imgnum\n",
    "    #print(f'type: {type(key.char)} char: {key.char}  key: {key}')\n",
    "    print(type(str(key.char)))\n",
    "    print(key)\n",
    "    print('c')\n",
    "    print(key.char == 'c')\n",
    "    print(previous_key == 1)\n",
    "    print(previous_key == 1 and str(key.char) == ('c'))\n",
    "    if (previous_key == 1 and str(key.char) == ('c')): \n",
    "        print('entrou!!!')\n",
    "        previous_key = 0\n",
    "        imgname = os.path.join(IMAGES_PATH,label,label + '{}.jpg'.format(str(uuid.uuid1())))      \n",
    "        cv2.imwrite(imgname, frame)\n",
    "        imgnum = imgnum + 1\n",
    "        print('hhhhkCollecting image {}'.format(imgnum))\n",
    "        #time.sleep(1)\n",
    "\n",
    "def on_release(key):\n",
    "    global previous_key\n",
    "    print('aqui release')\n",
    "    previous_key = 1\n",
    "    #print('previous_key {} released'.format(previous_key))\n",
    "    if key == keyboard.Key.esc:\n",
    "        # Stop listener\n",
    "        return False\n",
    "\n",
    "listener = keyboard.Listener(on_press=on_press, on_release=on_release)\n",
    "listener.start()\n",
    "\n",
    "for label in labels:\n",
    "    \n",
    "    previous_key = 1    \n",
    "    imgnum = 0\n",
    "    cap = cv2.VideoCapture(0)\n",
    "    print(f'Collecting images for {label}')\n",
    "    \n",
    "    while cap.isOpened(): \n",
    "        \n",
    "        #previous_key\n",
    "        \n",
    "        ret, frame = cap.read()\n",
    "\n",
    "        cv2.imshow('frame', frame)\n",
    "        cv2.waitKey(1)\n",
    "        \n",
    "        #keyboard.on_press_key('p',lambda _:print(\"You pressed p\"))\n",
    "        #print(f'loop {previous_key}')\n",
    "        \n",
    "        \n",
    "        #if keyboard.on_release_key('c', onkeyrelease, suppress=True): \n",
    "#        if keyboard.is_pressed('c'): # and previous_key:        \n",
    "        #if cv2.waitKey(1) & 0xFF == ord('c'):\n",
    "#            previous_key = 0\n",
    "#            imgname = os.path.join(IMAGES_PATH,label,label + '{}.jpg'.format(str(uuid.uuid1())))      \n",
    "#            cv2.imwrite(imgname, frame)\n",
    "#            imgnum = imgnum + 1\n",
    "#            print('Collecting image {}'.format(imgnum))\n",
    "#            time.sleep(2)\n",
    "            \n",
    "        \n",
    "        if imgnum >= number_imgs:\n",
    "            cap.release()\n",
    "            cv2.destroyAllWindows()\n",
    "            \n",
    "            #on_release('q', number_imgs)\n",
    "\n",
    "            \n",
    "            \n",
    "#        if (cv2.waitKey(1) & 0xFF == ord('q')) or imgnum >= number_imgs:\n",
    "#            cap.release()\n",
    "#            cv2.destroyAllWindows()\n",
    "#            break\n",
    "listener.stop()\n",
    "print('END')\n",
    "#    cap.release()\n",
    "#    cv2.destroyAllWindows()"
   ]
  },
  {
   "cell_type": "code",
   "execution_count": null,
   "id": "94b5eea9",
   "metadata": {},
   "outputs": [],
   "source": [
    "        "
   ]
  },
  {
   "cell_type": "code",
   "execution_count": null,
   "id": "85ede068",
   "metadata": {},
   "outputs": [],
   "source": []
  },
  {
   "cell_type": "code",
   "execution_count": null,
   "id": "321a6af6",
   "metadata": {},
   "outputs": [],
   "source": []
  },
  {
   "cell_type": "code",
   "execution_count": null,
   "id": "beeff65a",
   "metadata": {},
   "outputs": [],
   "source": []
  },
  {
   "cell_type": "code",
   "execution_count": null,
   "id": "d49b432f",
   "metadata": {},
   "outputs": [],
   "source": [
    "cap = cv2.VideoCapture(0)\n",
    "width = int(cap.get(cv2.CAP_PROP_FRAME_WIDTH))\n",
    "height = int(cap.get(cv2.CAP_PROP_FRAME_HEIGHT))\n",
    "\n",
    "while cap.isOpened(): \n",
    "    ret, frame = cap.read()\n",
    "    \n",
    "    cv2.imshow('frame', frame)\n",
    "    cv2.waitKey(1)\n",
    "cv2.destroyAllWindows()\n",
    "    #image_np = np.array(frame)"
   ]
  },
  {
   "cell_type": "code",
   "execution_count": null,
   "id": "ab2f8518",
   "metadata": {},
   "outputs": [],
   "source": [
    "import keyboard\n",
    "import time\n",
    "\n",
    "def callback1(event):\n",
    "    print(f'Event: {event}')\n",
    "    print('a')\n",
    "    exit\n",
    "\n",
    "#for c in range(10):\n",
    "time.sleep(2)\n",
    "keyboard.on_release_key('c',callback1, suppress=False)\n",
    "\n",
    "\n",
    "\n",
    "\n",
    "    "
   ]
  },
  {
   "cell_type": "code",
   "execution_count": null,
   "id": "cbce36f9",
   "metadata": {},
   "outputs": [],
   "source": [
    "import keyboard\n",
    "import time\n",
    "\n",
    "def print_pressed_keys(e):\n",
    "    line = ', '.join(str(code) for code in keyboard._pressed_events)\n",
    "    # '\\r' and end='' overwrites the previous line.\n",
    "    # ' '*40 prints 40 spaces at the end to ensure the previous line is cleared.\n",
    "    print('\\r' + line + ' '*40, end='')\n",
    "time.sleep(2)\n",
    "\n",
    "keyboard.hook(print_pressed_keys)\n",
    "#keyboard.wait()"
   ]
  },
  {
   "cell_type": "code",
   "execution_count": null,
   "id": "54b32238",
   "metadata": {},
   "outputs": [],
   "source": [
    "from pynput import keyboard\n",
    "\n",
    "def on_press(key):\n",
    "    try:\n",
    "        print('alphanumeric key {0} pressed'.format(key.char))\n",
    "    except AttributeError:\n",
    "        print('special key {0} pressed'.format(key))\n",
    "\n",
    "def on_release(key):\n",
    "    print('{0} released'.format(key))\n",
    "    if key == keyboard.Key.esc:\n",
    "        # Stop listener\n",
    "        return False\n",
    "\n",
    "listener = keyboard.Listener(on_press=on_press, on_release=on_release)\n",
    "listener.start()\n"
   ]
  },
  {
   "cell_type": "markdown",
   "id": "a3ee7475",
   "metadata": {},
   "source": [
    "###### "
   ]
  },
  {
   "cell_type": "raw",
   "id": "87dc2eca",
   "metadata": {},
   "source": []
  },
  {
   "cell_type": "code",
   "execution_count": null,
   "id": "eb9ead60",
   "metadata": {},
   "outputs": [],
   "source": []
  },
  {
   "cell_type": "code",
   "execution_count": null,
   "id": "13970040",
   "metadata": {},
   "outputs": [],
   "source": [
    "cv2.imshow('frame', frame)\n",
    "\n",
    "cv2.waitKey(2000)\n",
    "cv2.destroyAllWindows()\n",
    "#cv2.waitKey(1)"
   ]
  },
  {
   "cell_type": "code",
   "execution_count": null,
   "id": "5f228276",
   "metadata": {},
   "outputs": [],
   "source": []
  },
  {
   "cell_type": "code",
   "execution_count": null,
   "id": "9329dae0",
   "metadata": {},
   "outputs": [],
   "source": []
  },
  {
   "cell_type": "code",
   "execution_count": null,
   "id": "fbfd5136",
   "metadata": {},
   "outputs": [],
   "source": [
    "cap.release()\n",
    "cv2.destroyAllWindows()"
   ]
  },
  {
   "cell_type": "code",
   "execution_count": null,
   "id": "e5b858a6",
   "metadata": {},
   "outputs": [],
   "source": [
    "#LiveVideo\n",
    "cap = cv2.VideoCapture(0)\n",
    "width = int(cap.get(cv2.CAP_PROP_FRAME_WIDTH))\n",
    "height = int(cap.get(cv2.CAP_PROP_FRAME_HEIGHT))\n",
    "\n",
    "while cap.isOpened(): \n",
    "    ret, frame = cap.read()\n",
    "    \n",
    "    cv2.imshow('frame', frame)\n",
    "    cv2.waitKey(1)\n",
    "cv2.destroyAllWindows()\n",
    "    #image_np = np.array(frame)"
   ]
  }
 ],
 "metadata": {
  "kernelspec": {
   "display_name": "Python 3 (ipykernel)",
   "language": "python",
   "name": "python3"
  },
  "language_info": {
   "codemirror_mode": {
    "name": "ipython",
    "version": 3
   },
   "file_extension": ".py",
   "mimetype": "text/x-python",
   "name": "python",
   "nbconvert_exporter": "python",
   "pygments_lexer": "ipython3",
   "version": "3.9.12"
  }
 },
 "nbformat": 4,
 "nbformat_minor": 5
}
