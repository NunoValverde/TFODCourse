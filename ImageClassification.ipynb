{
 "cells": [
  {
   "cell_type": "markdown",
   "id": "56c25d09",
   "metadata": {},
   "source": [
    "# 1. Install Libraries and Import Dependencies"
   ]
  },
  {
   "cell_type": "code",
   "execution_count": null,
   "id": "659ec6a0",
   "metadata": {},
   "outputs": [],
   "source": [
    "!pip install opencv-python"
   ]
  },
  {
   "cell_type": "code",
   "execution_count": 12,
   "id": "553d0950",
   "metadata": {},
   "outputs": [],
   "source": [
    "import cv2\n",
    "import uuid\n",
    "import os\n",
    "import time"
   ]
  },
  {
   "cell_type": "markdown",
   "id": "ad0e45db",
   "metadata": {},
   "source": [
    "# 2.Define Images to Collect"
   ]
  },
  {
   "cell_type": "code",
   "execution_count": 13,
   "id": "2282140b",
   "metadata": {},
   "outputs": [],
   "source": [
    "labels = ['OK', 'NOK']\n",
    "number_imgs = 5"
   ]
  },
  {
   "cell_type": "markdown",
   "id": "4c25c0c4",
   "metadata": {},
   "source": [
    "# 3.Setup Folders"
   ]
  },
  {
   "cell_type": "code",
   "execution_count": 14,
   "id": "b3553070",
   "metadata": {},
   "outputs": [],
   "source": [
    "IMAGES_PATH = os.path.join('Tensorflow', 'workspace', 'images', 'collectedimages')"
   ]
  },
  {
   "cell_type": "code",
   "execution_count": null,
   "id": "9f192dc8",
   "metadata": {},
   "outputs": [],
   "source": [
    "if not os.path.exists(IMAGES_PATH):\n",
    "    !mkdir {IMAGES_PATH}\n",
    "    print(f'Folder Created - {IMAGES_PATH}')\n",
    "else:\n",
    "    print(f'Folder Already Exists - {IMAGES_PATH}')"
   ]
  },
  {
   "cell_type": "code",
   "execution_count": null,
   "id": "f369dc4f",
   "metadata": {},
   "outputs": [],
   "source": [
    "for label in labels:\n",
    "    path_label = os.path.join(IMAGES_PATH, label)\n",
    "    if not os.path.exists(path_label):\n",
    "        !mkdir {path_label}\n",
    "        print(f'Folder Created - {path_label}')\n",
    "    else:\n",
    "        print(f'Folder Already Exists - {path_label}')\n",
    "        "
   ]
  },
  {
   "cell_type": "markdown",
   "id": "f9a0fdc4",
   "metadata": {},
   "source": [
    "# 4. Capture Images"
   ]
  },
  {
   "cell_type": "code",
   "execution_count": 20,
   "id": "487422ae",
   "metadata": {
    "scrolled": true
   },
   "outputs": [
    {
     "name": "stdout",
     "output_type": "stream",
     "text": [
      "Collecting images for OK\n"
     ]
    },
    {
     "ename": "KeyboardInterrupt",
     "evalue": "",
     "output_type": "error",
     "traceback": [
      "\u001b[1;31m---------------------------------------------------------------------------\u001b[0m",
      "\u001b[1;31mKeyboardInterrupt\u001b[0m                         Traceback (most recent call last)",
      "Input \u001b[1;32mIn [20]\u001b[0m, in \u001b[0;36m<cell line: 28>\u001b[1;34m()\u001b[0m\n\u001b[0;32m     33\u001b[0m \u001b[38;5;28mprint\u001b[39m(\u001b[38;5;124mf\u001b[39m\u001b[38;5;124m'\u001b[39m\u001b[38;5;124mCollecting images for \u001b[39m\u001b[38;5;132;01m{\u001b[39;00mlabel\u001b[38;5;132;01m}\u001b[39;00m\u001b[38;5;124m'\u001b[39m)\n\u001b[0;32m     35\u001b[0m \u001b[38;5;28;01mwhile\u001b[39;00m cap\u001b[38;5;241m.\u001b[39misOpened(): \n\u001b[0;32m     36\u001b[0m     \n\u001b[0;32m     37\u001b[0m     \u001b[38;5;66;03m#previous_key\u001b[39;00m\n\u001b[1;32m---> 39\u001b[0m     ret, frame \u001b[38;5;241m=\u001b[39m \u001b[43mcap\u001b[49m\u001b[38;5;241;43m.\u001b[39;49m\u001b[43mread\u001b[49m\u001b[43m(\u001b[49m\u001b[43m)\u001b[49m\n\u001b[0;32m     41\u001b[0m     cv2\u001b[38;5;241m.\u001b[39mimshow(\u001b[38;5;124m'\u001b[39m\u001b[38;5;124mframe\u001b[39m\u001b[38;5;124m'\u001b[39m, frame)\n\u001b[0;32m     42\u001b[0m     cv2\u001b[38;5;241m.\u001b[39mwaitKey(\u001b[38;5;241m1\u001b[39m)\n",
      "\u001b[1;31mKeyboardInterrupt\u001b[0m: "
     ]
    }
   ],
   "source": [
    "from pynput import keyboard\n",
    "\n",
    "\n",
    "def on_press(key):\n",
    "    global previous_key\n",
    "    global imgnum\n",
    "\n",
    "    print(previous_key == 1 and str(key.char) == ('c'))\n",
    "    if (previous_key == 1 and str(key.char) == ('c')): \n",
    "        previous_key = 0\n",
    "        imgname = os.path.join(IMAGES_PATH,label,label + '{}.jpg'.format(str(uuid.uuid1())))      \n",
    "        cv2.imwrite(imgname, frame)\n",
    "        imgnum = imgnum + 1\n",
    "        print('Collecting image {}'.format(imgnum))\n",
    "        #time.sleep(1)\n",
    "\n",
    "def on_release(key):\n",
    "    global previous_key\n",
    "    previous_key = 1\n",
    "\n",
    "    if key == keyboard.Key.esc:\n",
    "        # Stop listener\n",
    "        return False\n",
    "\n",
    "listener = keyboard.Listener(on_press=on_press, on_release=on_release)\n",
    "listener.start()\n",
    "\n",
    "for label in labels:\n",
    "    \n",
    "    previous_key = 1    \n",
    "    imgnum = 0\n",
    "    cap = cv2.VideoCapture(1)\n",
    "    print(f'Collecting images for {label}')\n",
    "    \n",
    "    while cap.isOpened(): \n",
    "        \n",
    "        #previous_key\n",
    "        \n",
    "        ret, frame = cap.read()\n",
    "\n",
    "        cv2.imshow('frame', frame)\n",
    "        cv2.waitKey(1)\n",
    "        \n",
    "       \n",
    "        if imgnum >= number_imgs: # and label == labels[len(labels)-1]:\n",
    "            cap.release()\n",
    "            cv2.destroyAllWindows()\n",
    "\n",
    "listener.stop()\n",
    "print('END')\n",
    "#    cap.release()\n",
    "#    cv2.destroyAllWindows()"
   ]
  },
  {
   "cell_type": "markdown",
   "id": "15293183",
   "metadata": {},
   "source": [
    "# 5. Image Labelling"
   ]
  },
  {
   "cell_type": "code",
   "execution_count": 8,
   "id": "25fa271f",
   "metadata": {},
   "outputs": [
    {
     "name": "stdout",
     "output_type": "stream",
     "text": [
      "Package                 Version\n",
      "----------------------- --------------\n",
      "absl-py                 1.0.0\n",
      "aiohttp                 3.8.1\n",
      "aiosignal               1.2.0\n",
      "argon2-cffi             21.3.0\n",
      "argon2-cffi-bindings    21.2.0\n",
      "astor                   0.8.1\n",
      "asttokens               2.0.5\n",
      "astunparse              1.6.3\n",
      "async-timeout           4.0.1\n",
      "attrs                   21.4.0\n",
      "backcall                0.2.0\n",
      "beautifulsoup4          4.11.1\n",
      "bleach                  4.1.0\n",
      "blinker                 1.4\n",
      "Bottleneck              1.3.4\n",
      "brotlipy                0.7.0\n",
      "cachetools              4.2.2\n",
      "certifi                 2022.5.18.1\n",
      "cffi                    1.15.0\n",
      "charset-normalizer      2.0.4\n",
      "click                   8.0.4\n",
      "colorama                0.4.4\n",
      "cryptography            3.4.8\n",
      "cycler                  0.11.0\n",
      "debugpy                 1.5.1\n",
      "decorator               5.1.1\n",
      "defusedxml              0.7.1\n",
      "entrypoints             0.4\n",
      "executing               0.8.3\n",
      "fastjsonschema          2.15.1\n",
      "flatbuffers             20210226132247\n",
      "fonttools               4.25.0\n",
      "frozenlist              1.2.0\n",
      "gast                    0.4.0\n",
      "google-auth             2.6.0\n",
      "google-auth-oauthlib    0.4.1\n",
      "google-pasta            0.2.0\n",
      "grpcio                  1.42.0\n",
      "h5py                    3.6.0\n",
      "idna                    3.3\n",
      "importlib-metadata      4.11.3\n",
      "ipykernel               6.9.1\n",
      "ipython                 8.3.0\n",
      "ipython-genutils        0.2.0\n",
      "jedi                    0.18.1\n",
      "Jinja2                  3.0.3\n",
      "jsonschema              4.4.0\n",
      "jupyter-client          7.2.2\n",
      "jupyter-core            4.10.0\n",
      "jupyterlab-pygments     0.1.2\n",
      "keras                   2.6.0\n",
      "Keras-Preprocessing     1.1.2\n",
      "keyboard                0.13.5\n",
      "kiwisolver              1.4.2\n",
      "lxml                    4.9.0\n",
      "Markdown                3.3.4\n",
      "MarkupSafe              2.1.1\n",
      "matplotlib              3.5.1\n",
      "matplotlib-inline       0.1.2\n",
      "mistune                 0.8.4\n",
      "mkl-fft                 1.3.1\n",
      "mkl-random              1.2.2\n",
      "mkl-service             2.4.0\n",
      "multidict               5.1.0\n",
      "munkres                 1.1.4\n",
      "nbclient                0.5.13\n",
      "nbconvert               6.4.4\n",
      "nbformat                5.3.0\n",
      "nest-asyncio            1.5.5\n",
      "notebook                6.4.11\n",
      "numexpr                 2.8.1\n",
      "numpy                   1.22.3\n",
      "oauthlib                3.2.0\n",
      "opencv-python           4.6.0.66\n",
      "opt-einsum              3.3.0\n",
      "ortools                 9.3.10497\n",
      "packaging               21.3\n",
      "pandas                  1.4.2\n",
      "pandocfilters           1.5.0\n",
      "parso                   0.8.3\n",
      "pickleshare             0.7.5\n",
      "Pillow                  9.0.1\n",
      "pip                     21.2.4\n",
      "plotly                  5.6.0\n",
      "prometheus-client       0.13.1\n",
      "prompt-toolkit          3.0.20\n",
      "protobuf                4.21.1\n",
      "pure-eval               0.2.2\n",
      "pyasn1                  0.4.8\n",
      "pyasn1-modules          0.2.8\n",
      "pycparser               2.21\n",
      "Pygments                2.11.2\n",
      "PyJWT                   2.1.0\n",
      "pynput                  1.7.6\n",
      "pyOpenSSL               21.0.0\n",
      "pyparsing               3.0.4\n",
      "PyQt5                   5.15.7\n",
      "PyQt5-Qt5               5.15.2\n",
      "PyQt5-sip               12.11.0\n",
      "pyreadline              2.1\n",
      "pyrsistent              0.18.0\n",
      "PySocks                 1.7.1\n",
      "python-dateutil         2.8.2\n",
      "pytz                    2022.1\n",
      "pywin32                 302\n",
      "pywinpty                2.0.2\n",
      "pyzmq                   22.3.0\n",
      "requests                2.27.1\n",
      "requests-oauthlib       1.3.0\n",
      "rsa                     4.7.2\n",
      "scipy                   1.7.3\n",
      "Send2Trash              1.8.0\n",
      "setuptools              61.2.0\n",
      "six                     1.16.0\n",
      "soupsieve               2.3.1\n",
      "stack-data              0.2.0\n",
      "tenacity                8.0.1\n",
      "tensorboard             2.6.0\n",
      "tensorboard-data-server 0.6.0\n",
      "tensorboard-plugin-wit  1.6.0\n",
      "tensorflow              2.6.0\n",
      "tensorflow-estimator    2.6.0\n",
      "termcolor               1.1.0\n",
      "terminado               0.13.1\n",
      "testpath                0.5.0\n",
      "tornado                 6.1\n",
      "traitlets               5.1.1\n",
      "typing_extensions       4.1.1\n",
      "urllib3                 1.26.9\n",
      "wcwidth                 0.2.5\n",
      "webencodings            0.5.1\n",
      "Werkzeug                2.0.3\n",
      "wheel                   0.35.1\n",
      "win-inet-pton           1.1.0\n",
      "wincertstore            0.2\n",
      "wrapt                   1.13.3\n",
      "yarl                    1.6.3\n",
      "zipp                    3.8.0\n"
     ]
    }
   ],
   "source": [
    "!pip list"
   ]
  },
  {
   "cell_type": "code",
   "execution_count": 1,
   "id": "85ede068",
   "metadata": {},
   "outputs": [
    {
     "name": "stdout",
     "output_type": "stream",
     "text": [
      "Collecting pyqt5\n",
      "  Downloading PyQt5-5.15.7-cp37-abi3-win_amd64.whl (6.8 MB)\n",
      "Collecting lxml\n",
      "  Downloading lxml-4.9.0-cp39-cp39-win_amd64.whl (3.6 MB)\n",
      "Collecting PyQt5-Qt5>=5.15.0\n",
      "  Downloading PyQt5_Qt5-5.15.2-py3-none-win_amd64.whl (50.1 MB)\n",
      "Collecting PyQt5-sip<13,>=12.11\n",
      "  Downloading PyQt5_sip-12.11.0-cp39-cp39-win_amd64.whl (78 kB)\n",
      "Installing collected packages: PyQt5-sip, PyQt5-Qt5, pyqt5, lxml\n",
      "Successfully installed PyQt5-Qt5-5.15.2 PyQt5-sip-12.11.0 lxml-4.9.0 pyqt5-5.15.7\n"
     ]
    }
   ],
   "source": [
    "!pip install --upgrade pyqt5 lxml"
   ]
  },
  {
   "cell_type": "code",
   "execution_count": 9,
   "id": "321a6af6",
   "metadata": {},
   "outputs": [],
   "source": [
    "LABELIMG_PATH = os.path.join('Tensorflow','labeling')"
   ]
  },
  {
   "cell_type": "code",
   "execution_count": 7,
   "id": "beeff65a",
   "metadata": {},
   "outputs": [
    {
     "name": "stderr",
     "output_type": "stream",
     "text": [
      "Cloning into 'Tensorflow\\labeling'...\n"
     ]
    }
   ],
   "source": [
    "if not os.path.exists(LABELIMG_PATH):\n",
    "    !mkdir {LABELIMG_PATH}\n",
    "    !git clone https://github.com/tzutalin/labelImg {LABELIMG_PATH}"
   ]
  },
  {
   "cell_type": "code",
   "execution_count": 10,
   "id": "ef9b6699",
   "metadata": {},
   "outputs": [],
   "source": [
    "!cd {LABELIMG_PATH} && pyrcc5 -o libs/resources.py resources.qrc"
   ]
  },
  {
   "cell_type": "code",
   "execution_count": 11,
   "id": "f035305a",
   "metadata": {},
   "outputs": [],
   "source": [
    "!cd {LABELIMG_PATH} && python labelImg.py"
   ]
  },
  {
   "cell_type": "code",
   "execution_count": null,
   "id": "bc362a02",
   "metadata": {},
   "outputs": [],
   "source": []
  },
  {
   "cell_type": "code",
   "execution_count": null,
   "id": "f738ce64",
   "metadata": {},
   "outputs": [],
   "source": []
  },
  {
   "cell_type": "code",
   "execution_count": null,
   "id": "b2568e6c",
   "metadata": {},
   "outputs": [],
   "source": []
  },
  {
   "cell_type": "code",
   "execution_count": null,
   "id": "153b894d",
   "metadata": {},
   "outputs": [],
   "source": []
  },
  {
   "cell_type": "code",
   "execution_count": null,
   "id": "a6f4124d",
   "metadata": {},
   "outputs": [],
   "source": []
  },
  {
   "cell_type": "code",
   "execution_count": null,
   "id": "2826f30d",
   "metadata": {},
   "outputs": [],
   "source": []
  },
  {
   "cell_type": "code",
   "execution_count": null,
   "id": "eb9ead60",
   "metadata": {},
   "outputs": [],
   "source": []
  },
  {
   "cell_type": "code",
   "execution_count": null,
   "id": "5f228276",
   "metadata": {},
   "outputs": [],
   "source": []
  },
  {
   "cell_type": "code",
   "execution_count": 21,
   "id": "9329dae0",
   "metadata": {},
   "outputs": [],
   "source": [
    "listener.stop()"
   ]
  },
  {
   "cell_type": "code",
   "execution_count": 22,
   "id": "fbfd5136",
   "metadata": {},
   "outputs": [],
   "source": [
    "cap.release()\n",
    "cv2.destroyAllWindows()"
   ]
  },
  {
   "cell_type": "code",
   "execution_count": null,
   "id": "e5b858a6",
   "metadata": {},
   "outputs": [],
   "source": [
    "#LiveVideo\n",
    "cap = cv2.VideoCapture(0)\n",
    "width = int(cap.get(cv2.CAP_PROP_FRAME_WIDTH))\n",
    "height = int(cap.get(cv2.CAP_PROP_FRAME_HEIGHT))\n",
    "\n",
    "while cap.isOpened(): \n",
    "    ret, frame = cap.read()\n",
    "    \n",
    "    cv2.imshow('frame', frame)\n",
    "    cv2.waitKey(1)\n",
    "cap.release()\n",
    "cv2.destroyAllWindows()\n",
    "    #image_np = np.array(frame)"
   ]
  }
 ],
 "metadata": {
  "kernelspec": {
   "display_name": "Python 3 (ipykernel)",
   "language": "python",
   "name": "python3"
  },
  "language_info": {
   "codemirror_mode": {
    "name": "ipython",
    "version": 3
   },
   "file_extension": ".py",
   "mimetype": "text/x-python",
   "name": "python",
   "nbconvert_exporter": "python",
   "pygments_lexer": "ipython3",
   "version": "3.9.12"
  }
 },
 "nbformat": 4,
 "nbformat_minor": 5
}
